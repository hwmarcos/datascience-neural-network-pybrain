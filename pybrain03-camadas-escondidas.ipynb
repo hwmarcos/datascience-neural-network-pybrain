{
 "cells": [
  {
   "cell_type": "code",
   "execution_count": 1,
   "metadata": {
    "collapsed": true
   },
   "outputs": [],
   "source": [
    "#importando as lib do pybrain\n",
    "from pybrain.datasets import SupervisedDataSet\n",
    "from pybrain.tools.shortcuts import buildNetwork\n",
    "from pybrain.supervised import BackpropTrainer"
   ]
  },
  {
   "cell_type": "code",
   "execution_count": 2,
   "metadata": {
    "collapsed": true
   },
   "outputs": [],
   "source": [
    "#XOR DE 3 DIMENSOES\n",
    "dataset = SupervisedDataSet(3, 1)"
   ]
  },
  {
   "cell_type": "code",
   "execution_count": 3,
   "metadata": {
    "collapsed": true
   },
   "outputs": [],
   "source": [
    "dataset.addSample([0, 0, 0], [0])\n",
    "dataset.addSample([0, 0, 1], [1])\n",
    "dataset.addSample([0, 1, 0], [1])\n",
    "dataset.addSample([0, 1, 1], [0])\n",
    "dataset.addSample([1, 0, 0], [1])\n",
    "dataset.addSample([1, 0, 1], [0])\n",
    "dataset.addSample([1, 1, 0], [0])\n",
    "dataset.addSample([1, 1, 1], [1])"
   ]
  },
  {
   "cell_type": "code",
   "execution_count": 5,
   "metadata": {},
   "outputs": [],
   "source": [
    "rede = buildNetwork(dataset.indim, 2, dataset.outdim, bias=True)\n",
    "trainer = BackpropTrainer(rede, dataset, learningrate=0.01, momentum=0.9)"
   ]
  },
  {
   "cell_type": "code",
   "execution_count": 6,
   "metadata": {
    "collapsed": true
   },
   "outputs": [],
   "source": [
    "#treinando a rede\n",
    "trainer.trainEpochs(1000)"
   ]
  },
  {
   "cell_type": "code",
   "execution_count": 8,
   "metadata": {},
   "outputs": [
    {
     "name": "stdout",
     "output_type": "stream",
     "text": [
      "\n",
      "Testing on data:\n",
      "('out:    ', '[0.58  ]')\n",
      "('correct:', '[0     ]')\n",
      "error:  0.16804486\n",
      "('out:    ', '[0.59  ]')\n",
      "('correct:', '[1     ]')\n",
      "error:  0.08416674\n",
      "('out:    ', '[0.595 ]')\n",
      "('correct:', '[1     ]')\n",
      "error:  0.08185306\n",
      "('out:    ', '[0.598 ]')\n",
      "('correct:', '[0     ]')\n",
      "error:  0.17904210\n",
      "('out:    ', '[0.574 ]')\n",
      "('correct:', '[1     ]')\n",
      "error:  0.09054206\n",
      "('out:    ', '[0.587 ]')\n",
      "('correct:', '[0     ]')\n",
      "error:  0.17202600\n",
      "('out:    ', '[0.59  ]')\n",
      "('correct:', '[0     ]')\n",
      "error:  0.17386561\n",
      "('out:    ', '[0.596 ]')\n",
      "('correct:', '[1     ]')\n",
      "error:  0.08163697\n",
      "('All errors:', [0.16804485888701581, 0.084166736368795347, 0.081853064068052692, 0.17904209566249121, 0.090542056472745769, 0.17202599771285268, 0.17386561050376476, 0.081636967291879872])\n",
      "('Average error:', 0.12889717337094977)\n",
      "('Max error:', 0.17904209566249121, 'Median error:', 0.16804485888701581)\n"
     ]
    },
    {
     "data": {
      "text/plain": [
       "0.12889717337094977"
      ]
     },
     "execution_count": 8,
     "metadata": {},
     "output_type": "execute_result"
    }
   ],
   "source": [
    "#testando a rede\n",
    "teste = SupervisedDataSet(3, 1)\n",
    "teste.addSample([0, 0, 0], [0])\n",
    "teste.addSample([0, 0, 1], [1])\n",
    "teste.addSample([0, 1, 0], [1])\n",
    "teste.addSample([0, 1, 1], [0])\n",
    "teste.addSample([1, 0, 0], [1])\n",
    "teste.addSample([1, 0, 1], [0])\n",
    "teste.addSample([1, 1, 0], [0])\n",
    "teste.addSample([1, 1, 1], [1])\n",
    "trainer.testOnData(teste, verbose=True)"
   ]
  },
  {
   "cell_type": "code",
   "execution_count": 9,
   "metadata": {},
   "outputs": [
    {
     "name": "stdout",
     "output_type": "stream",
     "text": [
      "\n",
      "Testing on data:\n",
      "('out:    ', '[-0.001]')\n",
      "('correct:', '[0     ]')\n",
      "error:  0.00000037\n",
      "('out:    ', '[1     ]')\n",
      "('correct:', '[1     ]')\n",
      "error:  0.00000005\n",
      "('out:    ', '[1     ]')\n",
      "('correct:', '[1     ]')\n",
      "error:  0.00000004\n",
      "('out:    ', '[0.001 ]')\n",
      "('correct:', '[0     ]')\n",
      "error:  0.00000058\n",
      "('out:    ', '[1.001 ]')\n",
      "('correct:', '[1     ]')\n",
      "error:  0.00000047\n",
      "('out:    ', '[0     ]')\n",
      "('correct:', '[0     ]')\n",
      "error:  0.00000000\n",
      "('out:    ', '[0     ]')\n",
      "('correct:', '[0     ]')\n",
      "error:  0.00000000\n",
      "('out:    ', '[0.999 ]')\n",
      "('correct:', '[1     ]')\n",
      "error:  0.00000074\n",
      "('All errors:', [3.7002120281196202e-07, 5.3153216319101295e-08, 3.8541479759395396e-08, 5.7860381964720013e-07, 4.6992966125199163e-07, 6.2528169202719688e-10, 4.4870756663972013e-09, 7.3942026706975168e-07])\n",
      "('Average error:', 2.8184775052722829e-07)\n",
      "('Max error:', 7.3942026706975168e-07, 'Median error:', 3.7002120281196202e-07)\n"
     ]
    },
    {
     "data": {
      "text/plain": [
       "2.8184775052722829e-07"
      ]
     },
     "execution_count": 9,
     "metadata": {},
     "output_type": "execute_result"
    }
   ],
   "source": [
    "#utilizando 4 neuronios primeira camada escondida e 4 neuronios na segunda camada escondida\n",
    "rede = buildNetwork(dataset.indim, 4, 4, dataset.outdim, bias=True)\n",
    "trainer = BackpropTrainer(rede, dataset, learningrate=0.01, momentum=0.9)\n",
    "#treinando a rede\n",
    "trainer.trainEpochs(1000)\n",
    "#testando a rede\n",
    "teste = SupervisedDataSet(3, 1)\n",
    "teste.addSample([0, 0, 0], [0])\n",
    "teste.addSample([0, 0, 1], [1])\n",
    "teste.addSample([0, 1, 0], [1])\n",
    "teste.addSample([0, 1, 1], [0])\n",
    "teste.addSample([1, 0, 0], [1])\n",
    "teste.addSample([1, 0, 1], [0])\n",
    "teste.addSample([1, 1, 0], [0])\n",
    "teste.addSample([1, 1, 1], [1])\n",
    "trainer.testOnData(teste, verbose=True)"
   ]
  },
  {
   "cell_type": "code",
   "execution_count": 11,
   "metadata": {},
   "outputs": [
    {
     "name": "stdout",
     "output_type": "stream",
     "text": [
      "\n",
      "Testing on data:\n",
      "('out:    ', '[0     ]')\n",
      "('correct:', '[0     ]')\n",
      "error:  0.00000000\n",
      "('out:    ', '[1     ]')\n",
      "('correct:', '[1     ]')\n",
      "error:  0.00000000\n",
      "('out:    ', '[1     ]')\n",
      "('correct:', '[1     ]')\n",
      "error:  0.00000000\n",
      "('out:    ', '[-0    ]')\n",
      "('correct:', '[0     ]')\n",
      "error:  0.00000000\n",
      "('out:    ', '[1     ]')\n",
      "('correct:', '[1     ]')\n",
      "error:  0.00000000\n",
      "('out:    ', '[-0    ]')\n",
      "('correct:', '[0     ]')\n",
      "error:  0.00000000\n",
      "('out:    ', '[0     ]')\n",
      "('correct:', '[0     ]')\n",
      "error:  0.00000000\n",
      "('out:    ', '[1     ]')\n",
      "('correct:', '[1     ]')\n",
      "error:  0.00000000\n",
      "('All errors:', [1.8696715649554264e-12, 1.5784441287151041e-13, 2.1716093564341472e-12, 2.4071874308553078e-14, 4.7452999297570118e-13, 1.470811243935907e-12, 1.716354425446206e-12, 2.9947836158840341e-13])\n",
      "('Average error:', 1.0230464040644819e-12)\n",
      "('Max error:', 2.1716093564341472e-12, 'Median error:', 1.470811243935907e-12)\n"
     ]
    },
    {
     "data": {
      "text/plain": [
       "1.0230464040644819e-12"
      ]
     },
     "execution_count": 11,
     "metadata": {},
     "output_type": "execute_result"
    }
   ],
   "source": [
    "#utilizando 6 neuronios primeira camada escondida e 6 neuronios na segunda camada escondida\n",
    "#aumentando para 2000 épocas\n",
    "rede = buildNetwork(dataset.indim, 6, 6, dataset.outdim, bias=True)\n",
    "trainer = BackpropTrainer(rede, dataset, learningrate=0.01, momentum=0.9)\n",
    "#treinando a rede\n",
    "trainer.trainEpochs(2000)\n",
    "#testando a rede\n",
    "teste = SupervisedDataSet(3, 1)\n",
    "teste.addSample([0, 0, 0], [0])\n",
    "teste.addSample([0, 0, 1], [1])\n",
    "teste.addSample([0, 1, 0], [1])\n",
    "teste.addSample([0, 1, 1], [0])\n",
    "teste.addSample([1, 0, 0], [1])\n",
    "teste.addSample([1, 0, 1], [0])\n",
    "teste.addSample([1, 1, 0], [0])\n",
    "teste.addSample([1, 1, 1], [1])\n",
    "trainer.testOnData(teste, verbose=True)"
   ]
  },
  {
   "cell_type": "code",
   "execution_count": null,
   "metadata": {
    "collapsed": true
   },
   "outputs": [],
   "source": []
  }
 ],
 "metadata": {
  "kernelspec": {
   "display_name": "Python 3",
   "language": "python",
   "name": "python3"
  },
  "language_info": {
   "codemirror_mode": {
    "name": "ipython",
    "version": 3
   },
   "file_extension": ".py",
   "mimetype": "text/x-python",
   "name": "python",
   "nbconvert_exporter": "python",
   "pygments_lexer": "ipython3",
   "version": "3.5.2"
  }
 },
 "nbformat": 4,
 "nbformat_minor": 2
}
