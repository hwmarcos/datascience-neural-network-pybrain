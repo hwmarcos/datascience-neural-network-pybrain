{
 "cells": [
  {
   "cell_type": "code",
   "execution_count": 23,
   "metadata": {
    "collapsed": true
   },
   "outputs": [],
   "source": [
    "import numpy as np"
   ]
  },
  {
   "cell_type": "code",
   "execution_count": 24,
   "metadata": {},
   "outputs": [
    {
     "name": "stdout",
     "output_type": "stream",
     "text": [
      "150\n",
      "150\n"
     ]
    }
   ],
   "source": [
    "#carregando os dados com numpy\n",
    "entradas = np.genfromtxt('iris.data.txt', delimiter=',', usecols=(0,1,2,3))\n",
    "saidas = np.genfromtxt('iris.data.txt', delimiter=',', usecols=(4))\n",
    "print(len(entradas))\n",
    "print(len(saidas))"
   ]
  },
  {
   "cell_type": "code",
   "execution_count": 25,
   "metadata": {},
   "outputs": [
    {
     "name": "stdout",
     "output_type": "stream",
     "text": [
      "[[ 5.1  3.5  1.4  0.2]\n",
      " [ 4.9  3.   1.4  0.2]\n",
      " [ 4.7  3.2  1.3  0.2]\n",
      " [ 4.6  3.1  1.5  0.2]\n",
      " [ 5.   3.6  1.4  0.2]]\n",
      "[ 1.  1.  1.  1.  1.]\n"
     ]
    }
   ],
   "source": [
    "#iris-setosa: 1\n",
    "#iris-virginica: 2\n",
    "#iris-versicolor: 3\n",
    "print(entradas[:5])\n",
    "print(saidas[:5])"
   ]
  },
  {
   "cell_type": "code",
   "execution_count": 26,
   "metadata": {
    "collapsed": true
   },
   "outputs": [],
   "source": [
    "#utilizando 70% do dataset para TREINO (105 amostras) sendo 35 de cada classe\n",
    "entradas_treino = np.concatenate( (entradas[:35], entradas[50:85], entradas[100:135]) )\n",
    "saidas_treino = np.concatenate( (saidas[:35], saidas[50:85], saidas[100:135]) )"
   ]
  },
  {
   "cell_type": "code",
   "execution_count": 27,
   "metadata": {
    "collapsed": true
   },
   "outputs": [],
   "source": [
    "#utilizando 30% do dataset para TESTE (45 amostras) sendo 15 de cada classe\n",
    "entradas_teste = np.concatenate( (entradas[35:50], entradas[85:100], entradas[135:]) )\n",
    "saidas_teste = np.concatenate( (saidas[35:50], saidas[85:100], saidas[135:]) )"
   ]
  },
  {
   "cell_type": "code",
   "execution_count": 28,
   "metadata": {},
   "outputs": [
    {
     "name": "stdout",
     "output_type": "stream",
     "text": [
      "Treino:\n",
      "105\n",
      "105\n",
      "Teste:\n",
      "45\n",
      "45\n"
     ]
    }
   ],
   "source": [
    "print('Treino:')\n",
    "print(len(entradas_treino))\n",
    "print(len(saidas_treino))\n",
    "print('Teste:')\n",
    "print(len(entradas_teste))\n",
    "print(len(saidas_teste))"
   ]
  },
  {
   "cell_type": "code",
   "execution_count": 29,
   "metadata": {
    "collapsed": true
   },
   "outputs": [],
   "source": [
    "#importando as lib do pybrain\n",
    "from pybrain.datasets import SupervisedDataSet\n",
    "from pybrain.tools.shortcuts import buildNetwork\n",
    "from pybrain.supervised import BackpropTrainer"
   ]
  },
  {
   "cell_type": "code",
   "execution_count": 30,
   "metadata": {},
   "outputs": [
    {
     "name": "stdout",
     "output_type": "stream",
     "text": [
      "105\n",
      "4\n",
      "1\n"
     ]
    }
   ],
   "source": [
    "treino = SupervisedDataSet(4, 1)\n",
    "for i in range(len(entradas_treino)):\n",
    "    treino.addSample(entradas_treino[i], saidas_treino[i])\n",
    "print(len(treino))\n",
    "print(treino.indim)\n",
    "print(treino.outdim)"
   ]
  },
  {
   "cell_type": "code",
   "execution_count": 35,
   "metadata": {
    "collapsed": true
   },
   "outputs": [],
   "source": [
    "#contruindo a rede neural\n",
    "rede = buildNetwork(treino.indim, 2, treino.outdim, bias=True)\n",
    "trainer = BackpropTrainer(rede, treino, learningrate=0.01, momentum=0.3)"
   ]
  },
  {
   "cell_type": "code",
   "execution_count": 36,
   "metadata": {
    "collapsed": true
   },
   "outputs": [],
   "source": [
    "#treinando a rede\n",
    "trainer.trainEpochs(1000)"
   ]
  },
  {
   "cell_type": "code",
   "execution_count": 37,
   "metadata": {},
   "outputs": [
    {
     "name": "stdout",
     "output_type": "stream",
     "text": [
      "\n",
      "Testing on data:\n",
      "('out:    ', '[1.019 ]')\n",
      "('correct:', '[1     ]')\n",
      "error:  0.00018860\n",
      "('out:    ', '[1.013 ]')\n",
      "('correct:', '[1     ]')\n",
      "error:  0.00008760\n",
      "('out:    ', '[1.025 ]')\n",
      "('correct:', '[1     ]')\n",
      "error:  0.00032267\n",
      "('out:    ', '[1.032 ]')\n",
      "('correct:', '[1     ]')\n",
      "error:  0.00051202\n",
      "('out:    ', '[1.021 ]')\n",
      "('correct:', '[1     ]')\n",
      "error:  0.00021154\n",
      "('out:    ', '[1.019 ]')\n",
      "('correct:', '[1     ]')\n",
      "error:  0.00017193\n",
      "('out:    ', '[1.071 ]')\n",
      "('correct:', '[1     ]')\n",
      "error:  0.00248837\n",
      "('out:    ', '[1.026 ]')\n",
      "('correct:', '[1     ]')\n",
      "error:  0.00034515\n",
      "('out:    ', '[1.039 ]')\n",
      "('correct:', '[1     ]')\n",
      "error:  0.00077716\n",
      "('out:    ', '[1.028 ]')\n",
      "('correct:', '[1     ]')\n",
      "error:  0.00038638\n",
      "('out:    ', '[1.036 ]')\n",
      "('correct:', '[1     ]')\n",
      "error:  0.00064382\n",
      "('out:    ', '[1.015 ]')\n",
      "('correct:', '[1     ]')\n",
      "error:  0.00011426\n",
      "('out:    ', '[1.027 ]')\n",
      "('correct:', '[1     ]')\n",
      "error:  0.00036545\n",
      "('out:    ', '[1.014 ]')\n",
      "('correct:', '[1     ]')\n",
      "error:  0.00009978\n",
      "('out:    ', '[1.021 ]')\n",
      "('correct:', '[1     ]')\n",
      "error:  0.00022795\n",
      "('out:    ', '[2.105 ]')\n",
      "('correct:', '[2     ]')\n",
      "error:  0.00546291\n",
      "('out:    ', '[2.156 ]')\n",
      "('correct:', '[2     ]')\n",
      "error:  0.01223024\n",
      "('out:    ', '[2.333 ]')\n",
      "('correct:', '[2     ]')\n",
      "error:  0.05539469\n",
      "('out:    ', '[1.933 ]')\n",
      "('correct:', '[2     ]')\n",
      "error:  0.00224818\n",
      "('out:    ', '[2.167 ]')\n",
      "('correct:', '[2     ]')\n",
      "error:  0.01386611\n",
      "('out:    ', '[2.237 ]')\n",
      "('correct:', '[2     ]')\n",
      "error:  0.02802681\n",
      "('out:    ', '[2.184 ]')\n",
      "('correct:', '[2     ]')\n",
      "error:  0.01699720\n",
      "('out:    ', '[1.973 ]')\n",
      "('correct:', '[2     ]')\n",
      "error:  0.00035205\n",
      "('out:    ', '[1.761 ]')\n",
      "('correct:', '[2     ]')\n",
      "error:  0.02863129\n",
      "('out:    ', '[2.145 ]')\n",
      "('correct:', '[2     ]')\n",
      "error:  0.01049138\n",
      "('out:    ', '[1.884 ]')\n",
      "('correct:', '[2     ]')\n",
      "error:  0.00673187\n",
      "('out:    ', '[2.019 ]')\n",
      "('correct:', '[2     ]')\n",
      "error:  0.00017970\n",
      "('out:    ', '[1.979 ]')\n",
      "('correct:', '[2     ]')\n",
      "error:  0.00021670\n",
      "('out:    ', '[1.594 ]')\n",
      "('correct:', '[2     ]')\n",
      "error:  0.08227828\n",
      "('out:    ', '[2.021 ]')\n",
      "('correct:', '[2     ]')\n",
      "error:  0.00021083\n",
      "('out:    ', '[3.051 ]')\n",
      "('correct:', '[3     ]')\n",
      "error:  0.00132353\n",
      "('out:    ', '[3.004 ]')\n",
      "('correct:', '[3     ]')\n",
      "error:  0.00000708\n",
      "('out:    ', '[2.787 ]')\n",
      "('correct:', '[3     ]')\n",
      "error:  0.02265995\n",
      "('out:    ', '[2.612 ]')\n",
      "('correct:', '[3     ]')\n",
      "error:  0.07528332\n",
      "('out:    ', '[2.855 ]')\n",
      "('correct:', '[3     ]')\n",
      "error:  0.01056959\n",
      "('out:    ', '[3.036 ]')\n",
      "('correct:', '[3     ]')\n",
      "error:  0.00065374\n",
      "('out:    ', '[2.862 ]')\n",
      "('correct:', '[3     ]')\n",
      "error:  0.00954765\n",
      "('out:    ', '[2.906 ]')\n",
      "('correct:', '[3     ]')\n",
      "error:  0.00443077\n",
      "('out:    ', '[3.036 ]')\n",
      "('correct:', '[3     ]')\n",
      "error:  0.00065115\n",
      "('out:    ', '[3.046 ]')\n",
      "('correct:', '[3     ]')\n",
      "error:  0.00106250\n",
      "('out:    ', '[2.937 ]')\n",
      "('correct:', '[3     ]')\n",
      "error:  0.00196804\n",
      "('out:    ', '[2.886 ]')\n",
      "('correct:', '[3     ]')\n",
      "error:  0.00648840\n",
      "('out:    ', '[2.818 ]')\n",
      "('correct:', '[3     ]')\n",
      "error:  0.01661770\n",
      "('out:    ', '[2.928 ]')\n",
      "('correct:', '[3     ]')\n",
      "error:  0.00256861\n",
      "('out:    ', '[2.745 ]')\n",
      "('correct:', '[3     ]')\n",
      "error:  0.03259107\n",
      "('All errors:', [0.00018860108181365748, 8.7596785034917341e-05, 0.00032267140516222291, 0.00051201990519949702, 0.0002115369672841508, 0.00017193228267041203, 0.0024883652323939714, 0.00034514593634829365, 0.00077715940136614153, 0.00038638258978645996, 0.00064382033560415994, 0.00011425716193676761, 0.00036544551916716932, 9.9781931830934394e-05, 0.00022795350516423895, 0.0054629057889228191, 0.012230238838434297, 0.055394691211518209, 0.0022481826364139559, 0.013866112462343459, 0.028026814989649051, 0.016997195677732276, 0.00035205257652716146, 0.028631292892041232, 0.010491383058884999, 0.006731873478781499, 0.0001797035882183715, 0.00021670375533117554, 0.082278279743998317, 0.0002108272898845004, 0.0013235340853879184, 7.078712683283751e-06, 0.022659947039172033, 0.07528331761999224, 0.010569593874296901, 0.00065374336142319728, 0.0095476498815401361, 0.0044307652090026647, 0.00065115142570107605, 0.001062503201047224, 0.0019680401783989505, 0.006488401572219111, 0.01661770109940456, 0.0025686133989234194, 0.032591066677480553])\n",
      "('Average error:', 0.010148534119247057)\n",
      "('Max error:', 0.082278279743998317, 'Median error:', 0.0013235340853879184)\n"
     ]
    },
    {
     "data": {
      "text/plain": [
       "0.010148534119247057"
      ]
     },
     "execution_count": 37,
     "metadata": {},
     "output_type": "execute_result"
    }
   ],
   "source": [
    "#testando a rede\n",
    "teste = SupervisedDataSet(4, 1)\n",
    "for i in range(len(entradas_teste)):\n",
    "    teste.addSample(entradas_teste[i], saidas_teste[i])\n",
    "trainer.testOnData(teste, verbose=True)"
   ]
  },
  {
   "cell_type": "code",
   "execution_count": null,
   "metadata": {
    "collapsed": true
   },
   "outputs": [],
   "source": []
  }
 ],
 "metadata": {
  "kernelspec": {
   "display_name": "Python 3",
   "language": "python",
   "name": "python3"
  },
  "language_info": {
   "codemirror_mode": {
    "name": "ipython",
    "version": 3
   },
   "file_extension": ".py",
   "mimetype": "text/x-python",
   "name": "python",
   "nbconvert_exporter": "python",
   "pygments_lexer": "ipython3",
   "version": "3.5.2"
  }
 },
 "nbformat": 4,
 "nbformat_minor": 2
}
