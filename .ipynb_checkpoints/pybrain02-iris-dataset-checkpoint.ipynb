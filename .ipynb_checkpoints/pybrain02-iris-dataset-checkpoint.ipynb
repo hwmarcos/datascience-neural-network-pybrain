{
 "cells": [
  {
   "cell_type": "code",
   "execution_count": 23,
   "metadata": {
    "collapsed": true
   },
   "outputs": [],
   "source": [
    "import numpy as np"
   ]
  },
  {
   "cell_type": "code",
   "execution_count": 24,
   "metadata": {},
   "outputs": [
    {
     "name": "stdout",
     "output_type": "stream",
     "text": [
      "150\n",
      "150\n"
     ]
    }
   ],
   "source": [
    "#carregando os dados com numpy\n",
    "entradas = np.genfromtxt('iris.data.txt', delimiter=',', usecols=(0,1,2,3))\n",
    "saidas = np.genfromtxt('iris.data.txt', delimiter=',', usecols=(4))\n",
    "print(len(entradas))\n",
    "print(len(saidas))"
   ]
  },
  {
   "cell_type": "code",
   "execution_count": 25,
   "metadata": {},
   "outputs": [
    {
     "name": "stdout",
     "output_type": "stream",
     "text": [
      "[[ 5.1  3.5  1.4  0.2]\n",
      " [ 4.9  3.   1.4  0.2]\n",
      " [ 4.7  3.2  1.3  0.2]\n",
      " [ 4.6  3.1  1.5  0.2]\n",
      " [ 5.   3.6  1.4  0.2]]\n",
      "[ 1.  1.  1.  1.  1.]\n"
     ]
    }
   ],
   "source": [
    "#iris-setosa: 1\n",
    "#iris-virginica: 2\n",
    "#iris-versicolor: 3\n",
    "print(entradas[:5])\n",
    "print(saidas[:5])"
   ]
  },
  {
   "cell_type": "code",
   "execution_count": 26,
   "metadata": {
    "collapsed": true
   },
   "outputs": [],
   "source": [
    "#utilizando 70% do dataset para TREINO (105 amostras) sendo 35 de cada classe\n",
    "entradas_treino = np.concatenate( (entradas[:35], entradas[50:85], entradas[100:135]) )\n",
    "saidas_treino = np.concatenate( (saidas[:35], saidas[50:85], saidas[100:135]) )"
   ]
  },
  {
   "cell_type": "code",
   "execution_count": 27,
   "metadata": {
    "collapsed": true
   },
   "outputs": [],
   "source": [
    "#utilizando 30% do dataset para TESTE (45 amostras) sendo 15 de cada classe\n",
    "entradas_teste = np.concatenate( (entradas[35:50], entradas[85:100], entradas[135:]) )\n",
    "saidas_teste = np.concatenate( (saidas[35:50], saidas[85:100], saidas[135:]) )"
   ]
  },
  {
   "cell_type": "code",
   "execution_count": 28,
   "metadata": {},
   "outputs": [
    {
     "name": "stdout",
     "output_type": "stream",
     "text": [
      "Treino:\n",
      "105\n",
      "105\n",
      "Teste:\n",
      "45\n",
      "45\n"
     ]
    }
   ],
   "source": [
    "print('Treino:')\n",
    "print(len(entradas_treino))\n",
    "print(len(saidas_treino))\n",
    "print('Teste:')\n",
    "print(len(entradas_teste))\n",
    "print(len(saidas_teste))"
   ]
  },
  {
   "cell_type": "code",
   "execution_count": 29,
   "metadata": {
    "collapsed": true
   },
   "outputs": [],
   "source": [
    "#importando as lib do pybrain\n",
    "from pybrain.datasets import SupervisedDataSet\n",
    "from pybrain.tools.shortcuts import buildNetwork\n",
    "from pybrain.supervised import BackpropTrainer"
   ]
  },
  {
   "cell_type": "code",
   "execution_count": 30,
   "metadata": {},
   "outputs": [
    {
     "name": "stdout",
     "output_type": "stream",
     "text": [
      "105\n",
      "4\n",
      "1\n"
     ]
    }
   ],
   "source": [
    "treino = SupervisedDataSet(4, 1)\n",
    "for i in range(len(entradas_treino)):\n",
    "    treino.addSample(entradas_treino[i], saidas_treino[i])\n",
    "print(len(treino))\n",
    "print(treino.indim)\n",
    "print(treino.outdim)"
   ]
  },
  {
   "cell_type": "code",
   "execution_count": null,
   "metadata": {
    "collapsed": true
   },
   "outputs": [],
   "source": [
    "#contruindo a rede neural\n",
    "rede = buildNetwork(treino.indim, 2, treino.outdim, bias=True)\n",
    "trainer = BackpropTrainer(rede, treino, learningrate=0.01, momentum=0.3)"
   ]
  },
  {
   "cell_type": "code",
   "execution_count": null,
   "metadata": {
    "collapsed": true
   },
   "outputs": [],
   "source": [
    "#treinando a rede\n",
    "trainer.trainEpochs(1000)"
   ]
  },
  {
   "cell_type": "code",
   "execution_count": null,
   "metadata": {},
   "outputs": [],
   "source": [
    "#testando a rede\n",
    "teste = SupervisedDataSet(4, 1)\n",
    "for i in range(len(entradas_teste)):\n",
    "    teste.addSample(entradas_teste[i], saidas_teste[i])\n",
    "trainer.testOnData(teste, verbose=True)"
   ]
  },
  {
   "cell_type": "code",
   "execution_count": null,
   "metadata": {
    "collapsed": true
   },
   "outputs": [],
   "source": []
  }
 ],
 "metadata": {
  "kernelspec": {
   "display_name": "Python 3",
   "language": "python",
   "name": "python3"
  },
  "language_info": {
   "codemirror_mode": {
    "name": "ipython",
    "version": 3
   },
   "file_extension": ".py",
   "mimetype": "text/x-python",
   "name": "python",
   "nbconvert_exporter": "python",
   "pygments_lexer": "ipython3",
   "version": "3.5.2"
  }
 },
 "nbformat": 4,
 "nbformat_minor": 2
}
