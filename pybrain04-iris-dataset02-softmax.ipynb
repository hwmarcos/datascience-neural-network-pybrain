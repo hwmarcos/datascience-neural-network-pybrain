{
 "cells": [
  {
   "cell_type": "code",
   "execution_count": 1,
   "metadata": {
    "collapsed": true
   },
   "outputs": [],
   "source": [
    "#importando as lib do pybrain\n",
    "from pybrain.tools.shortcuts import buildNetwork\n",
    "from pybrain.supervised import BackpropTrainer\n",
    "from pybrain.datasets.classification import ClassificationDataSet\n",
    "#importando sklearn\n",
    "from sklearn import datasets"
   ]
  },
  {
   "cell_type": "code",
   "execution_count": 2,
   "metadata": {
    "collapsed": true
   },
   "outputs": [],
   "source": [
    "#carregando o dataset iris\n",
    "iris = datasets.load_iris()"
   ]
  },
  {
   "cell_type": "code",
   "execution_count": 3,
   "metadata": {
    "collapsed": true
   },
   "outputs": [],
   "source": [
    "#pegando as entradas X e as saidas Y\n",
    "x, y = iris.data,  iris.target"
   ]
  },
  {
   "cell_type": "code",
   "execution_count": 4,
   "metadata": {
    "collapsed": true
   },
   "outputs": [],
   "source": [
    "dataset = ClassificationDataSet(4, 1, nb_classes=3) #4 dimensão de entrada, #1 dimensão de saída"
   ]
  },
  {
   "cell_type": "code",
   "execution_count": 5,
   "metadata": {
    "collapsed": true
   },
   "outputs": [],
   "source": [
    "#adicionando os dados\n",
    "for i in range(len(x)):\n",
    "    dataset.addSample(x[i], y[i])"
   ]
  },
  {
   "cell_type": "code",
   "execution_count": 6,
   "metadata": {
    "collapsed": true
   },
   "outputs": [],
   "source": [
    "#particionando os dados entre treino e teste\n",
    "train_data_temp, part_data_temp = dataset.splitWithProportion(0.6) #60% para treino e 40% para testes"
   ]
  },
  {
   "cell_type": "code",
   "execution_count": 7,
   "metadata": {
    "collapsed": true
   },
   "outputs": [],
   "source": [
    "#particionando os dados em teste e validação\n",
    "test_data_temp, val_data_temp = part_data_temp.splitWithProportion(0.5) #50% para cada conjunto"
   ]
  },
  {
   "cell_type": "code",
   "execution_count": 8,
   "metadata": {},
   "outputs": [
    {
     "data": {
      "text/plain": [
       "pybrain.datasets.supervised.SupervisedDataSet"
      ]
     },
     "execution_count": 8,
     "metadata": {},
     "output_type": "execute_result"
    }
   ],
   "source": [
    "type(train_data_temp)"
   ]
  },
  {
   "cell_type": "code",
   "execution_count": 14,
   "metadata": {},
   "outputs": [],
   "source": [
    "#convertendo o conjunto de TREINO em ClassificationDataSet\n",
    "train_data = ClassificationDataSet(4, 1, nb_classes=3)\n",
    "for n in range(train_data_temp.getLength()):\n",
    "    train_data.addSample(train_data_temp.getSample(n)[0], train_data_temp.getSample(n)[1])"
   ]
  },
  {
   "cell_type": "code",
   "execution_count": 15,
   "metadata": {
    "collapsed": true
   },
   "outputs": [],
   "source": [
    "#convertendo o conjunto de TESTE em ClassificationDataSet\n",
    "test_data = ClassificationDataSet(4, 1, nb_classes=3)\n",
    "for n in range(test_data_temp.getLength()):\n",
    "    test_data.addSample(test_data_temp.getSample(n)[0], test_data_temp.getSample(n)[1])"
   ]
  },
  {
   "cell_type": "code",
   "execution_count": 16,
   "metadata": {
    "collapsed": true
   },
   "outputs": [],
   "source": [
    "#convertendo o conjunto de VALIDAÇÃO em ClassificationDataSet\n",
    "val_data = ClassificationDataSet(4, 1, nb_classes=3)\n",
    "for n in range(val_data_temp.getLength()):\n",
    "    val_data.addSample(val_data_temp.getSample(n)[0], val_data_temp.getSample(n)[1])"
   ]
  },
  {
   "cell_type": "code",
   "execution_count": 17,
   "metadata": {},
   "outputs": [
    {
     "name": "stdout",
     "output_type": "stream",
     "text": [
      "90\n",
      "30\n",
      "30\n"
     ]
    }
   ],
   "source": [
    "print(len(train_data))\n",
    "print(len(test_data))\n",
    "print(len(val_data))"
   ]
  },
  {
   "cell_type": "code",
   "execution_count": 18,
   "metadata": {},
   "outputs": [
    {
     "name": "stdout",
     "output_type": "stream",
     "text": [
      "Antes de usar convertToOneOfMany\n",
      "[[1]\n",
      " [1]\n",
      " [1]\n",
      " [0]\n",
      " [0]]\n"
     ]
    }
   ],
   "source": [
    "print('Antes de usar convertToOneOfMany')\n",
    "print(train_data['target'][:5])"
   ]
  },
  {
   "cell_type": "code",
   "execution_count": 19,
   "metadata": {
    "collapsed": true
   },
   "outputs": [],
   "source": [
    "#convertendo para _convertToOneOfMany\n",
    "train_data._convertToOneOfMany()\n",
    "test_data._convertToOneOfMany()\n",
    "val_data._convertToOneOfMany()"
   ]
  },
  {
   "cell_type": "code",
   "execution_count": 20,
   "metadata": {},
   "outputs": [
    {
     "name": "stdout",
     "output_type": "stream",
     "text": [
      "DEPOIS de usar convertToOneOfMany\n",
      "[[0 1 0]\n",
      " [0 1 0]\n",
      " [0 1 0]\n",
      " [1 0 0]\n",
      " [1 0 0]]\n"
     ]
    }
   ],
   "source": [
    "print('DEPOIS de usar convertToOneOfMany')\n",
    "print(train_data['target'][:5])"
   ]
  },
  {
   "cell_type": "code",
   "execution_count": 43,
   "metadata": {},
   "outputs": [],
   "source": [
    "#importando a lib SoftmaxLayer\n",
    "from pybrain.structure.modules import SoftmaxLayer"
   ]
  },
  {
   "cell_type": "code",
   "execution_count": 44,
   "metadata": {},
   "outputs": [],
   "source": [
    "#construindo a rede\n",
    "rede = buildNetwork(4, 5, 3, outclass=SoftmaxLayer)\n",
    "trainer = BackpropTrainer(rede, train_data, learningrate=0.01, momentum=0.1)\n",
    "trainer.trainOnDataset(train_data, 100) #treinando por 100 épocas"
   ]
  },
  {
   "cell_type": "code",
   "execution_count": 45,
   "metadata": {},
   "outputs": [],
   "source": [
    "from pybrain.utilities import percentError"
   ]
  },
  {
   "cell_type": "code",
   "execution_count": 46,
   "metadata": {},
   "outputs": [
    {
     "name": "stdout",
     "output_type": "stream",
     "text": [
      "Erro de teste: 6.666667\n"
     ]
    }
   ],
   "source": [
    "out = rede.activateOnDataset(test_data).argmax(axis=1)\n",
    "print('Erro de teste: %f' % percentError(out, test_data['class']))"
   ]
  },
  {
   "cell_type": "code",
   "execution_count": 47,
   "metadata": {
    "collapsed": true
   },
   "outputs": [],
   "source": [
    "import numpy as np"
   ]
  },
  {
   "cell_type": "code",
   "execution_count": 48,
   "metadata": {},
   "outputs": [
    {
     "name": "stdout",
     "output_type": "stream",
     "text": [
      "Erro de validação: 10.000000\n"
     ]
    }
   ],
   "source": [
    "out2 = rede.activateOnDataset(val_data).argmax(axis=1)\n",
    "print('Erro de validação: %f' % percentError(out2, val_data['class']))"
   ]
  },
  {
   "cell_type": "code",
   "execution_count": 50,
   "metadata": {},
   "outputs": [
    {
     "name": "stdout",
     "output_type": "stream",
     "text": [
      "Validação:\t\n",
      "Saída:\t\n",
      "[0 0 1 0 2 1 2 2 1 1 2 0 2 0 2 0 1 0 1 0 2 2 1 0 1 1 2 2 0 1]\n",
      "Correto:\t\n",
      "[1 2 2 1 2 0 2 1 2 0 1 1 0 0 0 0 0 1 0 1 2 1 1 0 2 2 2 0 2 2]\n"
     ]
    }
   ],
   "source": [
    "print('Validação:\\t')\n",
    "print('Saída:\\t')\n",
    "print(out)\n",
    "print('Correto:\\t')\n",
    "print(val_data['class'][:,0])"
   ]
  },
  {
   "cell_type": "code",
   "execution_count": null,
   "metadata": {
    "collapsed": true
   },
   "outputs": [],
   "source": []
  }
 ],
 "metadata": {
  "kernelspec": {
   "display_name": "Python 3",
   "language": "python",
   "name": "python3"
  },
  "language_info": {
   "codemirror_mode": {
    "name": "ipython",
    "version": 3
   },
   "file_extension": ".py",
   "mimetype": "text/x-python",
   "name": "python",
   "nbconvert_exporter": "python",
   "pygments_lexer": "ipython3",
   "version": "3.5.2"
  }
 },
 "nbformat": 4,
 "nbformat_minor": 2
}
